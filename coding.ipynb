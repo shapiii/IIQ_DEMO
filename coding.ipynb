{
 "cells": [
  {
   "cell_type": "code",
   "execution_count": 1,
   "id": "073ef972",
   "metadata": {},
   "outputs": [
    {
     "name": "stdout",
     "output_type": "stream",
     "text": [
      "Enter number 1: 30\n",
      "Enter number 2: 50\n",
      "Enter number 3: 30\n",
      "DISPLAY........\n",
      "Number 1 :  30.0\n",
      "Number 2 :  50.0\n",
      "Number 3 :  30.0\n",
      "Largest number is :  50.0\n"
     ]
    }
   ],
   "source": [
    "n1=float(input(\"Enter number 1: \"))\n",
    "n2=float(input(\"Enter number 2: \"))\n",
    "n3=float(input(\"Enter number 3: \"))\n",
    "if n1 > n2 :\n",
    " if n1 > n3 :\n",
    "     number=n1\n",
    " else :\n",
    "     number=n3\n",
    "else :\n",
    " if n2 >n3 :\n",
    "     number=n2\n",
    " else :\n",
    "     number=n3\n",
    "print(\"DISPLAY........\")\n",
    "print(\"Number 1 : \",n1)\n",
    "print(\"Number 2 : \",n2)\n",
    "print(\"Number 3 : \",n3)\n",
    "print(\"Largest number is : \",number) \n"
   ]
  },
  {
   "cell_type": "code",
   "execution_count": 3,
   "id": "a899fcdb",
   "metadata": {},
   "outputs": [
    {
     "ename": "SyntaxError",
     "evalue": "invalid syntax (<ipython-input-3-ae63a79323d4>, line 7)",
     "output_type": "error",
     "traceback": [
      "\u001b[1;36m  File \u001b[1;32m\"<ipython-input-3-ae63a79323d4>\"\u001b[1;36m, line \u001b[1;32m7\u001b[0m\n\u001b[1;33m    else:\u001b[0m\n\u001b[1;37m    ^\u001b[0m\n\u001b[1;31mSyntaxError\u001b[0m\u001b[1;31m:\u001b[0m invalid syntax\n"
     ]
    }
   ],
   "source": [
    "A = int(input(\"ENTER 1ST NUMBER:\"))\n",
    "B = int(input(\"ENTER 2ND NUMBER:\"))\n",
    "if A>0:\n",
    "    if B>0:\n",
    "        sum=A+B\n",
    "        print(\"sum:\"+sum)\n",
    "        else:\n",
    "        print(\"THE NUMBER 2 IS 0.\")\n",
    "    else:\n",
    "            print(\"THE NUMBER 1 IS 0.\")\n",
    "            "
   ]
  },
  {
   "cell_type": "code",
   "execution_count": 7,
   "id": "f649e24f",
   "metadata": {},
   "outputs": [
    {
     "name": "stdout",
     "output_type": "stream",
     "text": [
      "ENTER 1ST NUMBER:5\n",
      "ENTER 2ND NUMBER:10\n"
     ]
    },
    {
     "ename": "TypeError",
     "evalue": "can only concatenate str (not \"int\") to str",
     "output_type": "error",
     "traceback": [
      "\u001b[1;31m---------------------------------------------------------------------------\u001b[0m",
      "\u001b[1;31mTypeError\u001b[0m                                 Traceback (most recent call last)",
      "\u001b[1;32m<ipython-input-7-87c12a6f0c06>\u001b[0m in \u001b[0;36m<module>\u001b[1;34m\u001b[0m\n\u001b[0;32m      4\u001b[0m     \u001b[1;32mif\u001b[0m \u001b[0mB\u001b[0m\u001b[1;33m>\u001b[0m\u001b[1;36m0\u001b[0m\u001b[1;33m:\u001b[0m\u001b[1;33m\u001b[0m\u001b[1;33m\u001b[0m\u001b[0m\n\u001b[0;32m      5\u001b[0m         \u001b[0msum\u001b[0m \u001b[1;33m=\u001b[0m \u001b[0mA\u001b[0m \u001b[1;33m+\u001b[0m \u001b[0mB\u001b[0m\u001b[1;33m\u001b[0m\u001b[1;33m\u001b[0m\u001b[0m\n\u001b[1;32m----> 6\u001b[1;33m         \u001b[0mprint\u001b[0m\u001b[1;33m(\u001b[0m\u001b[1;34m\"sum:\"\u001b[0m\u001b[1;33m+\u001b[0m\u001b[0msum\u001b[0m\u001b[1;33m)\u001b[0m\u001b[1;33m\u001b[0m\u001b[1;33m\u001b[0m\u001b[0m\n\u001b[0m\u001b[0;32m      7\u001b[0m \u001b[1;33m\u001b[0m\u001b[0m\n\u001b[0;32m      8\u001b[0m     \u001b[1;32melse\u001b[0m\u001b[1;33m:\u001b[0m\u001b[1;33m\u001b[0m\u001b[1;33m\u001b[0m\u001b[0m\n",
      "\u001b[1;31mTypeError\u001b[0m: can only concatenate str (not \"int\") to str"
     ]
    }
   ],
   "source": [
    "A = int(input(\"ENTER 1ST NUMBER:\"))\n",
    "B = int(input(\"ENTER 2ND NUMBER:\"))\n",
    "if A>0:\n",
    "    if B>0:\n",
    "        sum = A + B\n",
    "        print(\"sum:\"+sum)\n",
    "        \n",
    "    else:\n",
    "        print(\"THE NUMBER 2 IS 0.\")\n",
    "else:\n",
    "            print(\"THE NUMBER 1 IS 0.\")"
   ]
  },
  {
   "cell_type": "code",
   "execution_count": 8,
   "id": "12a1bfe5",
   "metadata": {},
   "outputs": [
    {
     "name": "stdout",
     "output_type": "stream",
     "text": [
      "ENTER 1ST NUMBER:10\n",
      "ENTER 2ND NUMBER:20\n"
     ]
    },
    {
     "ename": "TypeError",
     "evalue": "can only concatenate str (not \"int\") to str",
     "output_type": "error",
     "traceback": [
      "\u001b[1;31m---------------------------------------------------------------------------\u001b[0m",
      "\u001b[1;31mTypeError\u001b[0m                                 Traceback (most recent call last)",
      "\u001b[1;32m<ipython-input-8-87c12a6f0c06>\u001b[0m in \u001b[0;36m<module>\u001b[1;34m\u001b[0m\n\u001b[0;32m      4\u001b[0m     \u001b[1;32mif\u001b[0m \u001b[0mB\u001b[0m\u001b[1;33m>\u001b[0m\u001b[1;36m0\u001b[0m\u001b[1;33m:\u001b[0m\u001b[1;33m\u001b[0m\u001b[1;33m\u001b[0m\u001b[0m\n\u001b[0;32m      5\u001b[0m         \u001b[0msum\u001b[0m \u001b[1;33m=\u001b[0m \u001b[0mA\u001b[0m \u001b[1;33m+\u001b[0m \u001b[0mB\u001b[0m\u001b[1;33m\u001b[0m\u001b[1;33m\u001b[0m\u001b[0m\n\u001b[1;32m----> 6\u001b[1;33m         \u001b[0mprint\u001b[0m\u001b[1;33m(\u001b[0m\u001b[1;34m\"sum:\"\u001b[0m\u001b[1;33m+\u001b[0m\u001b[0msum\u001b[0m\u001b[1;33m)\u001b[0m\u001b[1;33m\u001b[0m\u001b[1;33m\u001b[0m\u001b[0m\n\u001b[0m\u001b[0;32m      7\u001b[0m \u001b[1;33m\u001b[0m\u001b[0m\n\u001b[0;32m      8\u001b[0m     \u001b[1;32melse\u001b[0m\u001b[1;33m:\u001b[0m\u001b[1;33m\u001b[0m\u001b[1;33m\u001b[0m\u001b[0m\n",
      "\u001b[1;31mTypeError\u001b[0m: can only concatenate str (not \"int\") to str"
     ]
    }
   ],
   "source": [
    "A = int(input(\"ENTER 1ST NUMBER:\"))\n",
    "B = int(input(\"ENTER 2ND NUMBER:\"))\n",
    "if A>0:\n",
    "    if B>0:\n",
    "        sum = A + B\n",
    "        print(\"sum:\"+sum)\n",
    "        \n",
    "    else:\n",
    "        print(\"THE NUMBER 2 IS 0.\")\n",
    "else:\n",
    "            print(\"THE NUMBER 1 IS 0.\")"
   ]
  },
  {
   "cell_type": "code",
   "execution_count": 9,
   "id": "d0ff1a3d",
   "metadata": {},
   "outputs": [
    {
     "name": "stdout",
     "output_type": "stream",
     "text": [
      "enter first number: 10\n",
      "enter second number: 20\n",
      "sum: 30\n"
     ]
    }
   ],
   "source": [
    "a = int(input(\"enter first number: \"))\n",
    "b = int(input(\"enter second number: \"))\n",
    "if a > 0:\n",
    "\n",
    "    if b>0:\n",
    "    \n",
    "      sum = a + b\n",
    "      print(\"sum:\", sum)  \n",
    "    \n",
    "    else:\n",
    "    \n",
    "        print(\"The Number2 is 0.so we can't perform the operation.\")\n",
    "    \n",
    "    \n",
    "\n",
    "else:\n",
    "    \n",
    "        print(\"The Number1 is 0.so we can't perform the operation.\")"
   ]
  },
  {
   "cell_type": "code",
   "execution_count": 10,
   "id": "4dc49d3a",
   "metadata": {},
   "outputs": [
    {
     "name": "stdout",
     "output_type": "stream",
     "text": [
      "enter first number: 0\n",
      "enter second number: 15\n",
      "The Number1 is 0.so we can't perform the operation.\n"
     ]
    }
   ],
   "source": [
    "a = int(input(\"enter first number: \"))\n",
    "b = int(input(\"enter second number: \"))\n",
    "if a > 0:\n",
    "\n",
    "    if b>0:\n",
    "    \n",
    "      sum = a + b\n",
    "      print(\"sum:\", sum)  \n",
    "    \n",
    "    else:\n",
    "    \n",
    "        print(\"The Number2 is 0.so we can't perform the operation.\")\n",
    "    \n",
    "    \n",
    "\n",
    "else:\n",
    "    \n",
    "        print(\"The Number1 is 0.so we can't perform the operation.\")"
   ]
  },
  {
   "cell_type": "code",
   "execution_count": 11,
   "id": "9f54002f",
   "metadata": {},
   "outputs": [
    {
     "name": "stdout",
     "output_type": "stream",
     "text": [
      "     weight  Length1  Length2  Length3   Height   Width  label\n",
      "0     242.0     23.2     25.4     30.0  11.5200  4.0200  Bream\n",
      "1     290.0     24.0     26.3     31.2  12.4800  4.3056  Bream\n",
      "2     340.0     23.9     26.5     31.1  12.3778  4.6961  Bream\n",
      "3     363.0     26.3     29.0     33.5  12.7300  4.4555  Bream\n",
      "4     430.0     26.5     29.0     34.0  12.4440  5.1340  Bream\n",
      "..      ...      ...      ...      ...      ...     ...    ...\n",
      "154    12.2     11.5     12.2     13.4   2.0904  1.3936  Smelt\n",
      "155    13.4     11.7     12.4     13.5   2.4300  1.2690  Smelt\n",
      "156    12.2     12.1     13.0     13.8   2.2770  1.2558  Smelt\n",
      "157    19.7     13.2     14.3     15.2   2.8728  2.0672  Smelt\n",
      "158    19.9     13.8     15.0     16.2   2.9322  1.8792  Smelt\n",
      "\n",
      "[159 rows x 7 columns]\n"
     ]
    }
   ],
   "source": [
    "import pandas as pd\n",
    "dataset=pd.read_csv(\"fish.csv\")\n",
    "print(dataset)"
   ]
  },
  {
   "cell_type": "code",
   "execution_count": 12,
   "id": "62649c3f",
   "metadata": {},
   "outputs": [
    {
     "name": "stdout",
     "output_type": "stream",
     "text": [
      "                                                                                                                                                                                                                                                                                                                                                                                                                                                                                                                                                                                                                                                                      ID;Name;Year Published;Min Players;Max Players;Play Time;Min Age;Users Rated;Rating Average;BGG Rank;Complexity Average;Owned Users;Mechanics;Domains\n",
      "174430;Gloomhaven;2017;1;4;120;14;42055;8          79;1;3                           86;68323;Action Queue                          Action Retrieval                 Campaign / Battle Card Driven    Card Play Conflict Resolution  Communication Limits          Cooperative Game      Deck Construction         Deck Bag and Pool Building             Grid Movement                   Hand Management       Hexagon Grid             Legacy Game                            Modular Board   Once-Per-Game Abilities  Scenario / Mission / Campaign Game  Simultaneous Action Selection  Solo / Solitaire Game  Storytelling  Variable Player Powers;Strategy Games                                     Thematic Games                                                                                                   \n",
      "161936;Pandemic Legacy: Season 1;2015;2;4;60;13... 61;2;2                           84;65294;Action Points                         Cooperative Game                 Hand Management                  Legacy Game                    Point to Point Movement       Set Collection        Trading                   Variable Player Powers;Strategy Games  Thematic Games                 NaN                   NaN                      NaN                                    NaN             NaN                      NaN                                 NaN                            NaN                    NaN           NaN                                                                                   NaN                                                                                                   \n",
      "224517;Brass: Birmingham;2018;2;4;120;14;19217;8   66;3;3                           91;28785;Hand Management                       Income                           Loans                            Market                         Network and Route Building    Score-and-Reset Game  Tech Trees / Tech Tracks  Turn Order: Stat-Based                 Variable Set-up;Strategy Games NaN                   NaN                      NaN                                    NaN             NaN                      NaN                                 NaN                            NaN                    NaN           NaN                                                                                   NaN                                                                                                   \n",
      "167791;Terraforming Mars;2016;1;5;120;12;64864;8   43;4;3                           24;87099;Card Drafting                         Drafting                         End Game Bonuses                 Hand Management                Hexagon Grid                  Income                Set Collection            Solo / Solitaire Game                  Take That                       Tile Placement        Turn Order: Progressive  Variable Player Powers;Strategy Games NaN             NaN                      NaN                                 NaN                            NaN                    NaN           NaN                                                                                   NaN                                                                                                   \n",
      "233078;Twilight Imperium: Fourth Edition;2017;3... 70;5;4                           22;16831;Action Drafting                       Area Majority / Influence        Area-Impulse                     Dice Rolling                   Follow                        Grid Movement         Hexagon Grid              Modular Board                          Trading                         Variable Phase Order  Variable Player Powers   Voting;Strategy Games                  Thematic Games NaN                      NaN                                 NaN                            NaN                    NaN           NaN                                                                                   NaN                                                                                                   \n",
      "...                                                                                                                                                                                                                                                                                                                                                                                                                                                                                                                                                                                                                                                                                                                  ...                                                                                                   \n",
      "16398;War;0;2;2;30;4;1340;2                        28;20340;1;427;;Children's Games NaN                                           NaN                              NaN                              NaN                            NaN                           NaN                   NaN                       NaN                                    NaN                             NaN                   NaN                      NaN                                    NaN             NaN                      NaN                                 NaN                            NaN                    NaN           NaN                                                                                   NaN                                                                                                   \n",
      "7316;Bingo;1530;2;99;60;5;2154;2                   85;20341;1                       05;1533;Betting and Bluffing                   Bingo                            Pattern Recognition;Party Games NaN                            NaN                           NaN                   NaN                       NaN                                    NaN                             NaN                   NaN                      NaN                                    NaN             NaN                      NaN                                 NaN                            NaN                    NaN           NaN                                                                                   NaN                                                                                                   \n",
      "5048;Candy Land;1949;2;4;30;3;4006;3               18;20342;1                       08;5788;Roll / Spin and Move;Children's Games NaN                              NaN                              NaN                            NaN                           NaN                   NaN                       NaN                                    NaN                             NaN                   NaN                      NaN                                    NaN             NaN                      NaN                                 NaN                            NaN                    NaN           NaN                                                                                   NaN                                                                                                   \n",
      "5432;Chutes and Ladders;-200;2;6;30;3;3783;2       86;20343;1                       02;4400;Dice Rolling                           Grid Movement                    Race                             Roll / Spin and Move           Square Grid;Children's Games NaN                   NaN                       NaN                                    NaN                             NaN                   NaN                      NaN                                    NaN             NaN                      NaN                                 NaN                            NaN                    NaN           NaN                                                                                   NaN                                                                                                   \n",
      "11901;Tic-Tac-Toe;-1300;2;2;1;4;3275;2             68;20344;1                       16;1374;Paper-and-Pencil                       Pattern Building;Abstract Games  Children's Games                NaN                            NaN                           NaN                   NaN                       NaN                                    NaN                             NaN                   NaN                      NaN                                    NaN             NaN                      NaN                                 NaN                            NaN                    NaN           NaN                                                                                   NaN                                                                                                   \n",
      "\n",
      "[20343 rows x 1 columns]\n"
     ]
    }
   ],
   "source": [
    "import pandas as pd\n",
    "dataset=pd.read_csv(\"boardgame.csv\")\n",
    "print(dataset)"
   ]
  },
  {
   "cell_type": "code",
   "execution_count": null,
   "id": "64f4b409",
   "metadata": {},
   "outputs": [],
   "source": []
  }
 ],
 "metadata": {
  "kernelspec": {
   "display_name": "Python 3",
   "language": "python",
   "name": "python3"
  },
  "language_info": {
   "codemirror_mode": {
    "name": "ipython",
    "version": 3
   },
   "file_extension": ".py",
   "mimetype": "text/x-python",
   "name": "python",
   "nbconvert_exporter": "python",
   "pygments_lexer": "ipython3",
   "version": "3.8.8"
  }
 },
 "nbformat": 4,
 "nbformat_minor": 5
}
